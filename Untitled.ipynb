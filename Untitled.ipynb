{
 "cells": [
  {
   "cell_type": "code",
   "execution_count": 1,
   "id": "dfe05144",
   "metadata": {},
   "outputs": [],
   "source": [
    "import pandas as pd\n",
    "import glob\n",
    "import os\n",
    "import urllib.request\n",
    "import os.path\n",
    "import numpy as np\n",
    "from sklearn.preprocessing import LabelEncoder\n",
    "import matplotlib.pyplot as plt\n",
    "%matplotlib inline"
   ]
  },
  {
   "cell_type": "code",
   "execution_count": 2,
   "id": "c0750d77",
   "metadata": {},
   "outputs": [
    {
     "data": {
      "text/html": [
       "<div>\n",
       "<style scoped>\n",
       "    .dataframe tbody tr th:only-of-type {\n",
       "        vertical-align: middle;\n",
       "    }\n",
       "\n",
       "    .dataframe tbody tr th {\n",
       "        vertical-align: top;\n",
       "    }\n",
       "\n",
       "    .dataframe thead th {\n",
       "        text-align: right;\n",
       "    }\n",
       "</style>\n",
       "<table border=\"1\" class=\"dataframe\">\n",
       "  <thead>\n",
       "    <tr style=\"text-align: right;\">\n",
       "      <th></th>\n",
       "      <th>35</th>\n",
       "      <th>5\\tno\\tyes\\tno\\tno\\tno\\tno\\tno</th>\n",
       "    </tr>\n",
       "  </thead>\n",
       "  <tbody>\n",
       "    <tr>\n",
       "      <th>0</th>\n",
       "      <td>35</td>\n",
       "      <td>9\\tno\\tno\\tyes\\tyes\\tyes\\tyes\\tno</td>\n",
       "    </tr>\n",
       "    <tr>\n",
       "      <th>1</th>\n",
       "      <td>35</td>\n",
       "      <td>9\\tno\\tyes\\tno\\tno\\tno\\tno\\tno</td>\n",
       "    </tr>\n",
       "    <tr>\n",
       "      <th>2</th>\n",
       "      <td>36</td>\n",
       "      <td>0\\tno\\tno\\tyes\\tyes\\tyes\\tyes\\tno</td>\n",
       "    </tr>\n",
       "    <tr>\n",
       "      <th>3</th>\n",
       "      <td>36</td>\n",
       "      <td>0\\tno\\tyes\\tno\\tno\\tno\\tno\\tno</td>\n",
       "    </tr>\n",
       "    <tr>\n",
       "      <th>4</th>\n",
       "      <td>36</td>\n",
       "      <td>0\\tno\\tyes\\tno\\tno\\tno\\tno\\tno</td>\n",
       "    </tr>\n",
       "    <tr>\n",
       "      <th>...</th>\n",
       "      <td>...</td>\n",
       "      <td>...</td>\n",
       "    </tr>\n",
       "    <tr>\n",
       "      <th>114</th>\n",
       "      <td>41</td>\n",
       "      <td>4\\tno\\tyes\\tyes\\tno\\tyes\\tno\\tyes</td>\n",
       "    </tr>\n",
       "    <tr>\n",
       "      <th>115</th>\n",
       "      <td>41</td>\n",
       "      <td>5\\tno\\tno\\tno\\tno\\tno\\tno\\tno</td>\n",
       "    </tr>\n",
       "    <tr>\n",
       "      <th>116</th>\n",
       "      <td>41</td>\n",
       "      <td>5\\tyes\\tyes\\tno\\tyes\\tno\\tno\\tyes</td>\n",
       "    </tr>\n",
       "    <tr>\n",
       "      <th>117</th>\n",
       "      <td>41</td>\n",
       "      <td>5\\tno\\tyes\\tyes\\tno\\tyes\\tno\\tyes</td>\n",
       "    </tr>\n",
       "    <tr>\n",
       "      <th>118</th>\n",
       "      <td>41</td>\n",
       "      <td>5\\tno\\tyes\\tyes\\tno\\tyes\\tno\\tyes</td>\n",
       "    </tr>\n",
       "  </tbody>\n",
       "</table>\n",
       "<p>119 rows × 2 columns</p>\n",
       "</div>"
      ],
      "text/plain": [
       "     35     5\\tno\\tyes\\tno\\tno\\tno\\tno\\tno\n",
       "0    35  9\\tno\\tno\\tyes\\tyes\\tyes\\tyes\\tno\n",
       "1    35     9\\tno\\tyes\\tno\\tno\\tno\\tno\\tno\n",
       "2    36  0\\tno\\tno\\tyes\\tyes\\tyes\\tyes\\tno\n",
       "3    36     0\\tno\\tyes\\tno\\tno\\tno\\tno\\tno\n",
       "4    36     0\\tno\\tyes\\tno\\tno\\tno\\tno\\tno\n",
       "..   ..                                ...\n",
       "114  41  4\\tno\\tyes\\tyes\\tno\\tyes\\tno\\tyes\n",
       "115  41      5\\tno\\tno\\tno\\tno\\tno\\tno\\tno\n",
       "116  41  5\\tyes\\tyes\\tno\\tyes\\tno\\tno\\tyes\n",
       "117  41  5\\tno\\tyes\\tyes\\tno\\tyes\\tno\\tyes\n",
       "118  41  5\\tno\\tyes\\tyes\\tno\\tyes\\tno\\tyes\n",
       "\n",
       "[119 rows x 2 columns]"
      ]
     },
     "execution_count": 2,
     "metadata": {},
     "output_type": "execute_result"
    }
   ],
   "source": [
    "dataset=pd.read_csv('diagnosis.csv',encoding='utf-16',encoding_errors='ignore')\n",
    "dataset"
   ]
  },
  {
   "cell_type": "code",
   "execution_count": 13,
   "id": "6b7c5bdb",
   "metadata": {},
   "outputs": [
    {
     "data": {
      "text/plain": [
       "Index(['35', '5\\tno\\tyes\\tno\\tno\\tno\\tno\\tno'], dtype='object')"
      ]
     },
     "execution_count": 13,
     "metadata": {},
     "output_type": "execute_result"
    }
   ],
   "source": [
    "dataset.columns"
   ]
  },
  {
   "cell_type": "code",
   "execution_count": 14,
   "id": "e0d5775c",
   "metadata": {},
   "outputs": [
    {
     "data": {
      "text/plain": [
       "'35'"
      ]
     },
     "execution_count": 14,
     "metadata": {},
     "output_type": "execute_result"
    }
   ],
   "source": [
    "dataset.columns[0]"
   ]
  },
  {
   "cell_type": "code",
   "execution_count": 15,
   "id": "725eb1a6",
   "metadata": {},
   "outputs": [
    {
     "data": {
      "text/plain": [
       "'5\\tno\\tyes\\tno\\tno\\tno\\tno\\tno'"
      ]
     },
     "execution_count": 15,
     "metadata": {},
     "output_type": "execute_result"
    }
   ],
   "source": [
    "dataset.columns[1]"
   ]
  },
  {
   "cell_type": "markdown",
   "id": "7b692e77",
   "metadata": {},
   "source": [
    "# Make DataFrame"
   ]
  },
  {
   "cell_type": "code",
   "execution_count": 16,
   "id": "a00c6dfc",
   "metadata": {},
   "outputs": [
    {
     "data": {
      "text/html": [
       "<div>\n",
       "<style scoped>\n",
       "    .dataframe tbody tr th:only-of-type {\n",
       "        vertical-align: middle;\n",
       "    }\n",
       "\n",
       "    .dataframe tbody tr th {\n",
       "        vertical-align: top;\n",
       "    }\n",
       "\n",
       "    .dataframe thead th {\n",
       "        text-align: right;\n",
       "    }\n",
       "</style>\n",
       "<table border=\"1\" class=\"dataframe\">\n",
       "  <thead>\n",
       "    <tr style=\"text-align: right;\">\n",
       "      <th></th>\n",
       "      <th>Temperature_of_patient</th>\n",
       "      <th>Occurrence_of_nausea</th>\n",
       "      <th>Lumbar_pain</th>\n",
       "      <th>Urine_pushing</th>\n",
       "      <th>Micturition_pains</th>\n",
       "      <th>Burning_of_urethra_and_itch_and_swelling_of_urethra_outlet</th>\n",
       "      <th>Inflammation_of_urinary_bladder</th>\n",
       "      <th>Nephritis_of_renal_pelvis_origin</th>\n",
       "    </tr>\n",
       "  </thead>\n",
       "  <tbody>\n",
       "  </tbody>\n",
       "</table>\n",
       "</div>"
      ],
      "text/plain": [
       "Empty DataFrame\n",
       "Columns: [Temperature_of_patient, Occurrence_of_nausea, Lumbar_pain, Urine_pushing, Micturition_pains, Burning_of_urethra_and_itch_and_swelling_of_urethra_outlet, Inflammation_of_urinary_bladder, Nephritis_of_renal_pelvis_origin]\n",
       "Index: []"
      ]
     },
     "execution_count": 16,
     "metadata": {},
     "output_type": "execute_result"
    }
   ],
   "source": [
    "#df empty table\n",
    "df=pd.DataFrame(columns=['Temperature_of_patient', 'Occurrence_of_nausea', 'Lumbar_pain','Urine_pushing', 'Micturition_pains','Burning_of_urethra_and_itch_and_swelling_of_urethra_outlet','Inflammation_of_urinary_bladder', 'Nephritis_of_renal_pelvis_origin']) \n",
    "df"
   ]
  },
  {
   "cell_type": "code",
   "execution_count": 17,
   "id": "0cbb9b5b",
   "metadata": {},
   "outputs": [],
   "source": [
    "adding_string=dataset.columns[1]\n",
    "i=0\n",
    "for k in adding_string.split():\n",
    "    string=''\n",
    "    if k == '\\t':\n",
    "         break\n",
    "    string= string +\"\"+k\n",
    "    if i==0:\n",
    "        string=str(dataset.columns[0])+','+string\n",
    "        df.loc[0,'Temperature_of_patient']=string\n",
    "    else:\n",
    "        df.iloc[0,i]=string\n",
    "    i=i+1"
   ]
  },
  {
   "cell_type": "code",
   "execution_count": 18,
   "id": "f2c2d2e1",
   "metadata": {},
   "outputs": [
    {
     "data": {
      "text/html": [
       "<div>\n",
       "<style scoped>\n",
       "    .dataframe tbody tr th:only-of-type {\n",
       "        vertical-align: middle;\n",
       "    }\n",
       "\n",
       "    .dataframe tbody tr th {\n",
       "        vertical-align: top;\n",
       "    }\n",
       "\n",
       "    .dataframe thead th {\n",
       "        text-align: right;\n",
       "    }\n",
       "</style>\n",
       "<table border=\"1\" class=\"dataframe\">\n",
       "  <thead>\n",
       "    <tr style=\"text-align: right;\">\n",
       "      <th></th>\n",
       "      <th>Temperature_of_patient</th>\n",
       "      <th>Occurrence_of_nausea</th>\n",
       "      <th>Lumbar_pain</th>\n",
       "      <th>Urine_pushing</th>\n",
       "      <th>Micturition_pains</th>\n",
       "      <th>Burning_of_urethra_and_itch_and_swelling_of_urethra_outlet</th>\n",
       "      <th>Inflammation_of_urinary_bladder</th>\n",
       "      <th>Nephritis_of_renal_pelvis_origin</th>\n",
       "    </tr>\n",
       "  </thead>\n",
       "  <tbody>\n",
       "    <tr>\n",
       "      <th>0</th>\n",
       "      <td>35,5</td>\n",
       "      <td>no</td>\n",
       "      <td>yes</td>\n",
       "      <td>no</td>\n",
       "      <td>no</td>\n",
       "      <td>no</td>\n",
       "      <td>no</td>\n",
       "      <td>no</td>\n",
       "    </tr>\n",
       "  </tbody>\n",
       "</table>\n",
       "</div>"
      ],
      "text/plain": [
       "  Temperature_of_patient Occurrence_of_nausea Lumbar_pain Urine_pushing  \\\n",
       "0                   35,5                   no         yes            no   \n",
       "\n",
       "  Micturition_pains  \\\n",
       "0                no   \n",
       "\n",
       "  Burning_of_urethra_and_itch_and_swelling_of_urethra_outlet  \\\n",
       "0                                                 no           \n",
       "\n",
       "  Inflammation_of_urinary_bladder Nephritis_of_renal_pelvis_origin  \n",
       "0                              no                               no  "
      ]
     },
     "execution_count": 18,
     "metadata": {},
     "output_type": "execute_result"
    }
   ],
   "source": [
    "df"
   ]
  },
  {
   "cell_type": "code",
   "execution_count": 19,
   "id": "1ecb0227",
   "metadata": {},
   "outputs": [
    {
     "data": {
      "text/plain": [
       "Index(['Temperature_of_patient', 'Occurrence_of_nausea', 'Lumbar_pain',\n",
       "       'Urine_pushing', 'Micturition_pains',\n",
       "       'Burning_of_urethra_and_itch_and_swelling_of_urethra_outlet',\n",
       "       'Inflammation_of_urinary_bladder', 'Nephritis_of_renal_pelvis_origin'],\n",
       "      dtype='object')"
      ]
     },
     "execution_count": 19,
     "metadata": {},
     "output_type": "execute_result"
    }
   ],
   "source": [
    "array_column_name=df.columns\n",
    "array_column_name"
   ]
  },
  {
   "cell_type": "code",
   "execution_count": 20,
   "id": "a7a151a5",
   "metadata": {},
   "outputs": [],
   "source": [
    "i=0\n",
    "while i<len(dataset):\n",
    "    adding_string=dataset.iloc[i,1]\n",
    "    j=0\n",
    "    for k in adding_string.split():\n",
    "        string=''\n",
    "        if k == '\\t':\n",
    "             break\n",
    "        string= string +\"\"+k\n",
    "        if j==0:\n",
    "            string=str(dataset.iloc[i,0])+','+string\n",
    "            df.loc[i+1,array_column_name[0]]=string\n",
    "        else:\n",
    "            \n",
    "            df.loc[i+1,array_column_name[j]]=string\n",
    "            #print(str(string))\n",
    "        j=j+1\n",
    "    i=i+1\n",
    "    "
   ]
  },
  {
   "cell_type": "code",
   "execution_count": 21,
   "id": "40132026",
   "metadata": {},
   "outputs": [
    {
     "data": {
      "text/html": [
       "<div>\n",
       "<style scoped>\n",
       "    .dataframe tbody tr th:only-of-type {\n",
       "        vertical-align: middle;\n",
       "    }\n",
       "\n",
       "    .dataframe tbody tr th {\n",
       "        vertical-align: top;\n",
       "    }\n",
       "\n",
       "    .dataframe thead th {\n",
       "        text-align: right;\n",
       "    }\n",
       "</style>\n",
       "<table border=\"1\" class=\"dataframe\">\n",
       "  <thead>\n",
       "    <tr style=\"text-align: right;\">\n",
       "      <th></th>\n",
       "      <th>Temperature_of_patient</th>\n",
       "      <th>Occurrence_of_nausea</th>\n",
       "      <th>Lumbar_pain</th>\n",
       "      <th>Urine_pushing</th>\n",
       "      <th>Micturition_pains</th>\n",
       "      <th>Burning_of_urethra_and_itch_and_swelling_of_urethra_outlet</th>\n",
       "      <th>Inflammation_of_urinary_bladder</th>\n",
       "      <th>Nephritis_of_renal_pelvis_origin</th>\n",
       "    </tr>\n",
       "  </thead>\n",
       "  <tbody>\n",
       "    <tr>\n",
       "      <th>0</th>\n",
       "      <td>35,5</td>\n",
       "      <td>no</td>\n",
       "      <td>yes</td>\n",
       "      <td>no</td>\n",
       "      <td>no</td>\n",
       "      <td>no</td>\n",
       "      <td>no</td>\n",
       "      <td>no</td>\n",
       "    </tr>\n",
       "    <tr>\n",
       "      <th>1</th>\n",
       "      <td>35,9</td>\n",
       "      <td>no</td>\n",
       "      <td>no</td>\n",
       "      <td>yes</td>\n",
       "      <td>yes</td>\n",
       "      <td>yes</td>\n",
       "      <td>yes</td>\n",
       "      <td>no</td>\n",
       "    </tr>\n",
       "    <tr>\n",
       "      <th>2</th>\n",
       "      <td>35,9</td>\n",
       "      <td>no</td>\n",
       "      <td>yes</td>\n",
       "      <td>no</td>\n",
       "      <td>no</td>\n",
       "      <td>no</td>\n",
       "      <td>no</td>\n",
       "      <td>no</td>\n",
       "    </tr>\n",
       "    <tr>\n",
       "      <th>3</th>\n",
       "      <td>36,0</td>\n",
       "      <td>no</td>\n",
       "      <td>no</td>\n",
       "      <td>yes</td>\n",
       "      <td>yes</td>\n",
       "      <td>yes</td>\n",
       "      <td>yes</td>\n",
       "      <td>no</td>\n",
       "    </tr>\n",
       "    <tr>\n",
       "      <th>4</th>\n",
       "      <td>36,0</td>\n",
       "      <td>no</td>\n",
       "      <td>yes</td>\n",
       "      <td>no</td>\n",
       "      <td>no</td>\n",
       "      <td>no</td>\n",
       "      <td>no</td>\n",
       "      <td>no</td>\n",
       "    </tr>\n",
       "    <tr>\n",
       "      <th>...</th>\n",
       "      <td>...</td>\n",
       "      <td>...</td>\n",
       "      <td>...</td>\n",
       "      <td>...</td>\n",
       "      <td>...</td>\n",
       "      <td>...</td>\n",
       "      <td>...</td>\n",
       "      <td>...</td>\n",
       "    </tr>\n",
       "    <tr>\n",
       "      <th>115</th>\n",
       "      <td>41,4</td>\n",
       "      <td>no</td>\n",
       "      <td>yes</td>\n",
       "      <td>yes</td>\n",
       "      <td>no</td>\n",
       "      <td>yes</td>\n",
       "      <td>no</td>\n",
       "      <td>yes</td>\n",
       "    </tr>\n",
       "    <tr>\n",
       "      <th>116</th>\n",
       "      <td>41,5</td>\n",
       "      <td>no</td>\n",
       "      <td>no</td>\n",
       "      <td>no</td>\n",
       "      <td>no</td>\n",
       "      <td>no</td>\n",
       "      <td>no</td>\n",
       "      <td>no</td>\n",
       "    </tr>\n",
       "    <tr>\n",
       "      <th>117</th>\n",
       "      <td>41,5</td>\n",
       "      <td>yes</td>\n",
       "      <td>yes</td>\n",
       "      <td>no</td>\n",
       "      <td>yes</td>\n",
       "      <td>no</td>\n",
       "      <td>no</td>\n",
       "      <td>yes</td>\n",
       "    </tr>\n",
       "    <tr>\n",
       "      <th>118</th>\n",
       "      <td>41,5</td>\n",
       "      <td>no</td>\n",
       "      <td>yes</td>\n",
       "      <td>yes</td>\n",
       "      <td>no</td>\n",
       "      <td>yes</td>\n",
       "      <td>no</td>\n",
       "      <td>yes</td>\n",
       "    </tr>\n",
       "    <tr>\n",
       "      <th>119</th>\n",
       "      <td>41,5</td>\n",
       "      <td>no</td>\n",
       "      <td>yes</td>\n",
       "      <td>yes</td>\n",
       "      <td>no</td>\n",
       "      <td>yes</td>\n",
       "      <td>no</td>\n",
       "      <td>yes</td>\n",
       "    </tr>\n",
       "  </tbody>\n",
       "</table>\n",
       "<p>120 rows × 8 columns</p>\n",
       "</div>"
      ],
      "text/plain": [
       "    Temperature_of_patient Occurrence_of_nausea Lumbar_pain Urine_pushing  \\\n",
       "0                     35,5                   no         yes            no   \n",
       "1                     35,9                   no          no           yes   \n",
       "2                     35,9                   no         yes            no   \n",
       "3                     36,0                   no          no           yes   \n",
       "4                     36,0                   no         yes            no   \n",
       "..                     ...                  ...         ...           ...   \n",
       "115                   41,4                   no         yes           yes   \n",
       "116                   41,5                   no          no            no   \n",
       "117                   41,5                  yes         yes            no   \n",
       "118                   41,5                   no         yes           yes   \n",
       "119                   41,5                   no         yes           yes   \n",
       "\n",
       "    Micturition_pains  \\\n",
       "0                  no   \n",
       "1                 yes   \n",
       "2                  no   \n",
       "3                 yes   \n",
       "4                  no   \n",
       "..                ...   \n",
       "115                no   \n",
       "116                no   \n",
       "117               yes   \n",
       "118                no   \n",
       "119                no   \n",
       "\n",
       "    Burning_of_urethra_and_itch_and_swelling_of_urethra_outlet  \\\n",
       "0                                                   no           \n",
       "1                                                  yes           \n",
       "2                                                   no           \n",
       "3                                                  yes           \n",
       "4                                                   no           \n",
       "..                                                 ...           \n",
       "115                                                yes           \n",
       "116                                                 no           \n",
       "117                                                 no           \n",
       "118                                                yes           \n",
       "119                                                yes           \n",
       "\n",
       "    Inflammation_of_urinary_bladder Nephritis_of_renal_pelvis_origin  \n",
       "0                                no                               no  \n",
       "1                               yes                               no  \n",
       "2                                no                               no  \n",
       "3                               yes                               no  \n",
       "4                                no                               no  \n",
       "..                              ...                              ...  \n",
       "115                              no                              yes  \n",
       "116                              no                               no  \n",
       "117                              no                              yes  \n",
       "118                              no                              yes  \n",
       "119                              no                              yes  \n",
       "\n",
       "[120 rows x 8 columns]"
      ]
     },
     "execution_count": 21,
     "metadata": {},
     "output_type": "execute_result"
    }
   ],
   "source": [
    "df"
   ]
  },
  {
   "cell_type": "markdown",
   "id": "c758fdcd",
   "metadata": {},
   "source": [
    "# Solving duplicated"
   ]
  },
  {
   "cell_type": "code",
   "execution_count": 22,
   "id": "e6fd53e3",
   "metadata": {},
   "outputs": [
    {
     "data": {
      "text/plain": [
       "0      False\n",
       "1      False\n",
       "2      False\n",
       "3      False\n",
       "4      False\n",
       "       ...  \n",
       "115    False\n",
       "116    False\n",
       "117    False\n",
       "118    False\n",
       "119     True\n",
       "Length: 120, dtype: bool"
      ]
     },
     "execution_count": 22,
     "metadata": {},
     "output_type": "execute_result"
    }
   ],
   "source": [
    "bool_series = df.duplicated()\n",
    "bool_series"
   ]
  },
  {
   "cell_type": "code",
   "execution_count": 23,
   "id": "09e7a719",
   "metadata": {},
   "outputs": [],
   "source": [
    "#  first :first instance of a duplicate row to be unique\n",
    "bool_series = df.duplicated(keep='first')\n",
    "# The `~` sign is used for negation. It changes the boolean value True to False and False to True.\n",
    "df=df[~bool_series]"
   ]
  },
  {
   "cell_type": "code",
   "execution_count": 24,
   "id": "3cc49c47",
   "metadata": {},
   "outputs": [
    {
     "data": {
      "text/html": [
       "<div>\n",
       "<style scoped>\n",
       "    .dataframe tbody tr th:only-of-type {\n",
       "        vertical-align: middle;\n",
       "    }\n",
       "\n",
       "    .dataframe tbody tr th {\n",
       "        vertical-align: top;\n",
       "    }\n",
       "\n",
       "    .dataframe thead th {\n",
       "        text-align: right;\n",
       "    }\n",
       "</style>\n",
       "<table border=\"1\" class=\"dataframe\">\n",
       "  <thead>\n",
       "    <tr style=\"text-align: right;\">\n",
       "      <th></th>\n",
       "      <th>Temperature_of_patient</th>\n",
       "      <th>Occurrence_of_nausea</th>\n",
       "      <th>Lumbar_pain</th>\n",
       "      <th>Urine_pushing</th>\n",
       "      <th>Micturition_pains</th>\n",
       "      <th>Burning_of_urethra_and_itch_and_swelling_of_urethra_outlet</th>\n",
       "      <th>Inflammation_of_urinary_bladder</th>\n",
       "      <th>Nephritis_of_renal_pelvis_origin</th>\n",
       "    </tr>\n",
       "  </thead>\n",
       "  <tbody>\n",
       "    <tr>\n",
       "      <th>0</th>\n",
       "      <td>35,5</td>\n",
       "      <td>no</td>\n",
       "      <td>yes</td>\n",
       "      <td>no</td>\n",
       "      <td>no</td>\n",
       "      <td>no</td>\n",
       "      <td>no</td>\n",
       "      <td>no</td>\n",
       "    </tr>\n",
       "    <tr>\n",
       "      <th>1</th>\n",
       "      <td>35,9</td>\n",
       "      <td>no</td>\n",
       "      <td>no</td>\n",
       "      <td>yes</td>\n",
       "      <td>yes</td>\n",
       "      <td>yes</td>\n",
       "      <td>yes</td>\n",
       "      <td>no</td>\n",
       "    </tr>\n",
       "    <tr>\n",
       "      <th>2</th>\n",
       "      <td>35,9</td>\n",
       "      <td>no</td>\n",
       "      <td>yes</td>\n",
       "      <td>no</td>\n",
       "      <td>no</td>\n",
       "      <td>no</td>\n",
       "      <td>no</td>\n",
       "      <td>no</td>\n",
       "    </tr>\n",
       "    <tr>\n",
       "      <th>3</th>\n",
       "      <td>36,0</td>\n",
       "      <td>no</td>\n",
       "      <td>no</td>\n",
       "      <td>yes</td>\n",
       "      <td>yes</td>\n",
       "      <td>yes</td>\n",
       "      <td>yes</td>\n",
       "      <td>no</td>\n",
       "    </tr>\n",
       "    <tr>\n",
       "      <th>4</th>\n",
       "      <td>36,0</td>\n",
       "      <td>no</td>\n",
       "      <td>yes</td>\n",
       "      <td>no</td>\n",
       "      <td>no</td>\n",
       "      <td>no</td>\n",
       "      <td>no</td>\n",
       "      <td>no</td>\n",
       "    </tr>\n",
       "    <tr>\n",
       "      <th>...</th>\n",
       "      <td>...</td>\n",
       "      <td>...</td>\n",
       "      <td>...</td>\n",
       "      <td>...</td>\n",
       "      <td>...</td>\n",
       "      <td>...</td>\n",
       "      <td>...</td>\n",
       "      <td>...</td>\n",
       "    </tr>\n",
       "    <tr>\n",
       "      <th>94</th>\n",
       "      <td>41,3</td>\n",
       "      <td>yes</td>\n",
       "      <td>yes</td>\n",
       "      <td>yes</td>\n",
       "      <td>yes</td>\n",
       "      <td>no</td>\n",
       "      <td>yes</td>\n",
       "      <td>yes</td>\n",
       "    </tr>\n",
       "    <tr>\n",
       "      <th>95</th>\n",
       "      <td>41,4</td>\n",
       "      <td>no</td>\n",
       "      <td>yes</td>\n",
       "      <td>yes</td>\n",
       "      <td>no</td>\n",
       "      <td>yes</td>\n",
       "      <td>no</td>\n",
       "      <td>yes</td>\n",
       "    </tr>\n",
       "    <tr>\n",
       "      <th>96</th>\n",
       "      <td>41,5</td>\n",
       "      <td>no</td>\n",
       "      <td>no</td>\n",
       "      <td>no</td>\n",
       "      <td>no</td>\n",
       "      <td>no</td>\n",
       "      <td>no</td>\n",
       "      <td>no</td>\n",
       "    </tr>\n",
       "    <tr>\n",
       "      <th>97</th>\n",
       "      <td>41,5</td>\n",
       "      <td>yes</td>\n",
       "      <td>yes</td>\n",
       "      <td>no</td>\n",
       "      <td>yes</td>\n",
       "      <td>no</td>\n",
       "      <td>no</td>\n",
       "      <td>yes</td>\n",
       "    </tr>\n",
       "    <tr>\n",
       "      <th>98</th>\n",
       "      <td>41,5</td>\n",
       "      <td>no</td>\n",
       "      <td>yes</td>\n",
       "      <td>yes</td>\n",
       "      <td>no</td>\n",
       "      <td>yes</td>\n",
       "      <td>no</td>\n",
       "      <td>yes</td>\n",
       "    </tr>\n",
       "  </tbody>\n",
       "</table>\n",
       "<p>99 rows × 8 columns</p>\n",
       "</div>"
      ],
      "text/plain": [
       "   Temperature_of_patient Occurrence_of_nausea Lumbar_pain Urine_pushing  \\\n",
       "0                    35,5                   no         yes            no   \n",
       "1                    35,9                   no          no           yes   \n",
       "2                    35,9                   no         yes            no   \n",
       "3                    36,0                   no          no           yes   \n",
       "4                    36,0                   no         yes            no   \n",
       "..                    ...                  ...         ...           ...   \n",
       "94                   41,3                  yes         yes           yes   \n",
       "95                   41,4                   no         yes           yes   \n",
       "96                   41,5                   no          no            no   \n",
       "97                   41,5                  yes         yes            no   \n",
       "98                   41,5                   no         yes           yes   \n",
       "\n",
       "   Micturition_pains  \\\n",
       "0                 no   \n",
       "1                yes   \n",
       "2                 no   \n",
       "3                yes   \n",
       "4                 no   \n",
       "..               ...   \n",
       "94               yes   \n",
       "95                no   \n",
       "96                no   \n",
       "97               yes   \n",
       "98                no   \n",
       "\n",
       "   Burning_of_urethra_and_itch_and_swelling_of_urethra_outlet  \\\n",
       "0                                                  no           \n",
       "1                                                 yes           \n",
       "2                                                  no           \n",
       "3                                                 yes           \n",
       "4                                                  no           \n",
       "..                                                ...           \n",
       "94                                                 no           \n",
       "95                                                yes           \n",
       "96                                                 no           \n",
       "97                                                 no           \n",
       "98                                                yes           \n",
       "\n",
       "   Inflammation_of_urinary_bladder Nephritis_of_renal_pelvis_origin  \n",
       "0                               no                               no  \n",
       "1                              yes                               no  \n",
       "2                               no                               no  \n",
       "3                              yes                               no  \n",
       "4                               no                               no  \n",
       "..                             ...                              ...  \n",
       "94                             yes                              yes  \n",
       "95                              no                              yes  \n",
       "96                              no                               no  \n",
       "97                              no                              yes  \n",
       "98                              no                              yes  \n",
       "\n",
       "[99 rows x 8 columns]"
      ]
     },
     "execution_count": 24,
     "metadata": {},
     "output_type": "execute_result"
    }
   ],
   "source": [
    "#Re_number df\n",
    "df.reset_index(drop=True, inplace=True)\n",
    "df"
   ]
  },
  {
   "cell_type": "code",
   "execution_count": 25,
   "id": "91f64923",
   "metadata": {},
   "outputs": [
    {
     "name": "stderr",
     "output_type": "stream",
     "text": [
      "C:\\Users\\shahrouri tech\\AppData\\Local\\Temp\\ipykernel_7424\\1935662041.py:3: SettingWithCopyWarning: \n",
      "A value is trying to be set on a copy of a slice from a DataFrame\n",
      "\n",
      "See the caveats in the documentation: https://pandas.pydata.org/pandas-docs/stable/user_guide/indexing.html#returning-a-view-versus-a-copy\n",
      "  df.loc[i,'Temperature_of_patient'] = df.loc[i,'Temperature_of_patient'].replace(\",\", \".\" )\n"
     ]
    }
   ],
   "source": [
    "i=0\n",
    "while i<len(df):\n",
    "    df.loc[i,'Temperature_of_patient'] = df.loc[i,'Temperature_of_patient'].replace(\",\", \".\" )\n",
    "    i=i+1"
   ]
  },
  {
   "cell_type": "code",
   "execution_count": 17,
   "id": "077422f6",
   "metadata": {},
   "outputs": [],
   "source": [
    "#df.to_csv('new_diagnosis(1).csv')"
   ]
  },
  {
   "cell_type": "markdown",
   "id": "6af086eb",
   "metadata": {},
   "source": [
    "# Object Columns"
   ]
  },
  {
   "cell_type": "code",
   "execution_count": 3,
   "id": "e828e863",
   "metadata": {},
   "outputs": [
    {
     "data": {
      "text/html": [
       "<div>\n",
       "<style scoped>\n",
       "    .dataframe tbody tr th:only-of-type {\n",
       "        vertical-align: middle;\n",
       "    }\n",
       "\n",
       "    .dataframe tbody tr th {\n",
       "        vertical-align: top;\n",
       "    }\n",
       "\n",
       "    .dataframe thead th {\n",
       "        text-align: right;\n",
       "    }\n",
       "</style>\n",
       "<table border=\"1\" class=\"dataframe\">\n",
       "  <thead>\n",
       "    <tr style=\"text-align: right;\">\n",
       "      <th></th>\n",
       "      <th>Unnamed: 0</th>\n",
       "      <th>Temperature_of_patient</th>\n",
       "      <th>Occurrence_of_nausea</th>\n",
       "      <th>Lumbar_pain</th>\n",
       "      <th>Urine_pushing</th>\n",
       "      <th>Micturition_pains</th>\n",
       "      <th>Burning_of_urethra_and_itch_and_swelling_of_urethra_outlet</th>\n",
       "      <th>Inflammation_of_urinary_bladder</th>\n",
       "      <th>Nephritis_of_renal_pelvis_origin</th>\n",
       "    </tr>\n",
       "  </thead>\n",
       "  <tbody>\n",
       "    <tr>\n",
       "      <th>0</th>\n",
       "      <td>0</td>\n",
       "      <td>35.5</td>\n",
       "      <td>no</td>\n",
       "      <td>yes</td>\n",
       "      <td>no</td>\n",
       "      <td>no</td>\n",
       "      <td>no</td>\n",
       "      <td>no</td>\n",
       "      <td>no</td>\n",
       "    </tr>\n",
       "    <tr>\n",
       "      <th>1</th>\n",
       "      <td>1</td>\n",
       "      <td>35.9</td>\n",
       "      <td>no</td>\n",
       "      <td>no</td>\n",
       "      <td>yes</td>\n",
       "      <td>yes</td>\n",
       "      <td>yes</td>\n",
       "      <td>yes</td>\n",
       "      <td>no</td>\n",
       "    </tr>\n",
       "    <tr>\n",
       "      <th>2</th>\n",
       "      <td>2</td>\n",
       "      <td>35.9</td>\n",
       "      <td>no</td>\n",
       "      <td>yes</td>\n",
       "      <td>no</td>\n",
       "      <td>no</td>\n",
       "      <td>no</td>\n",
       "      <td>no</td>\n",
       "      <td>no</td>\n",
       "    </tr>\n",
       "    <tr>\n",
       "      <th>3</th>\n",
       "      <td>3</td>\n",
       "      <td>36.0</td>\n",
       "      <td>no</td>\n",
       "      <td>no</td>\n",
       "      <td>yes</td>\n",
       "      <td>yes</td>\n",
       "      <td>yes</td>\n",
       "      <td>yes</td>\n",
       "      <td>no</td>\n",
       "    </tr>\n",
       "    <tr>\n",
       "      <th>4</th>\n",
       "      <td>4</td>\n",
       "      <td>36.0</td>\n",
       "      <td>no</td>\n",
       "      <td>yes</td>\n",
       "      <td>no</td>\n",
       "      <td>no</td>\n",
       "      <td>no</td>\n",
       "      <td>no</td>\n",
       "      <td>no</td>\n",
       "    </tr>\n",
       "    <tr>\n",
       "      <th>...</th>\n",
       "      <td>...</td>\n",
       "      <td>...</td>\n",
       "      <td>...</td>\n",
       "      <td>...</td>\n",
       "      <td>...</td>\n",
       "      <td>...</td>\n",
       "      <td>...</td>\n",
       "      <td>...</td>\n",
       "      <td>...</td>\n",
       "    </tr>\n",
       "    <tr>\n",
       "      <th>94</th>\n",
       "      <td>94</td>\n",
       "      <td>41.3</td>\n",
       "      <td>yes</td>\n",
       "      <td>yes</td>\n",
       "      <td>yes</td>\n",
       "      <td>yes</td>\n",
       "      <td>no</td>\n",
       "      <td>yes</td>\n",
       "      <td>yes</td>\n",
       "    </tr>\n",
       "    <tr>\n",
       "      <th>95</th>\n",
       "      <td>95</td>\n",
       "      <td>41.4</td>\n",
       "      <td>no</td>\n",
       "      <td>yes</td>\n",
       "      <td>yes</td>\n",
       "      <td>no</td>\n",
       "      <td>yes</td>\n",
       "      <td>no</td>\n",
       "      <td>yes</td>\n",
       "    </tr>\n",
       "    <tr>\n",
       "      <th>96</th>\n",
       "      <td>96</td>\n",
       "      <td>41.5</td>\n",
       "      <td>no</td>\n",
       "      <td>no</td>\n",
       "      <td>no</td>\n",
       "      <td>no</td>\n",
       "      <td>no</td>\n",
       "      <td>no</td>\n",
       "      <td>no</td>\n",
       "    </tr>\n",
       "    <tr>\n",
       "      <th>97</th>\n",
       "      <td>97</td>\n",
       "      <td>41.5</td>\n",
       "      <td>yes</td>\n",
       "      <td>yes</td>\n",
       "      <td>no</td>\n",
       "      <td>yes</td>\n",
       "      <td>no</td>\n",
       "      <td>no</td>\n",
       "      <td>yes</td>\n",
       "    </tr>\n",
       "    <tr>\n",
       "      <th>98</th>\n",
       "      <td>98</td>\n",
       "      <td>41.5</td>\n",
       "      <td>no</td>\n",
       "      <td>yes</td>\n",
       "      <td>yes</td>\n",
       "      <td>no</td>\n",
       "      <td>yes</td>\n",
       "      <td>no</td>\n",
       "      <td>yes</td>\n",
       "    </tr>\n",
       "  </tbody>\n",
       "</table>\n",
       "<p>99 rows × 9 columns</p>\n",
       "</div>"
      ],
      "text/plain": [
       "    Unnamed: 0  Temperature_of_patient Occurrence_of_nausea Lumbar_pain  \\\n",
       "0            0                    35.5                   no         yes   \n",
       "1            1                    35.9                   no          no   \n",
       "2            2                    35.9                   no         yes   \n",
       "3            3                    36.0                   no          no   \n",
       "4            4                    36.0                   no         yes   \n",
       "..         ...                     ...                  ...         ...   \n",
       "94          94                    41.3                  yes         yes   \n",
       "95          95                    41.4                   no         yes   \n",
       "96          96                    41.5                   no          no   \n",
       "97          97                    41.5                  yes         yes   \n",
       "98          98                    41.5                   no         yes   \n",
       "\n",
       "   Urine_pushing Micturition_pains  \\\n",
       "0             no                no   \n",
       "1            yes               yes   \n",
       "2             no                no   \n",
       "3            yes               yes   \n",
       "4             no                no   \n",
       "..           ...               ...   \n",
       "94           yes               yes   \n",
       "95           yes                no   \n",
       "96            no                no   \n",
       "97            no               yes   \n",
       "98           yes                no   \n",
       "\n",
       "   Burning_of_urethra_and_itch_and_swelling_of_urethra_outlet  \\\n",
       "0                                                  no           \n",
       "1                                                 yes           \n",
       "2                                                  no           \n",
       "3                                                 yes           \n",
       "4                                                  no           \n",
       "..                                                ...           \n",
       "94                                                 no           \n",
       "95                                                yes           \n",
       "96                                                 no           \n",
       "97                                                 no           \n",
       "98                                                yes           \n",
       "\n",
       "   Inflammation_of_urinary_bladder Nephritis_of_renal_pelvis_origin  \n",
       "0                               no                               no  \n",
       "1                              yes                               no  \n",
       "2                               no                               no  \n",
       "3                              yes                               no  \n",
       "4                               no                               no  \n",
       "..                             ...                              ...  \n",
       "94                             yes                              yes  \n",
       "95                              no                              yes  \n",
       "96                              no                               no  \n",
       "97                              no                              yes  \n",
       "98                              no                              yes  \n",
       "\n",
       "[99 rows x 9 columns]"
      ]
     },
     "execution_count": 3,
     "metadata": {},
     "output_type": "execute_result"
    }
   ],
   "source": [
    "df=pd.read_csv('new_diagnosis(1).csv')\n",
    "df"
   ]
  },
  {
   "cell_type": "code",
   "execution_count": 4,
   "id": "331091c7",
   "metadata": {},
   "outputs": [],
   "source": [
    "df=df.drop(columns=['Unnamed: 0'])"
   ]
  },
  {
   "cell_type": "code",
   "execution_count": 7,
   "id": "5c3f2f69",
   "metadata": {},
   "outputs": [
    {
     "data": {
      "text/plain": [
       "<pandas.core.groupby.generic.DataFrameGroupBy object at 0x00000204AE9F8310>"
      ]
     },
     "execution_count": 7,
     "metadata": {},
     "output_type": "execute_result"
    }
   ],
   "source": [
    "df.groupby('Occurrence_of_nausea')"
   ]
  },
  {
   "cell_type": "code",
   "execution_count": 39,
   "id": "5c0241ae",
   "metadata": {},
   "outputs": [
    {
     "data": {
      "text/plain": [
       "Temperature_of_patient                                        float64\n",
       "Occurrence_of_nausea                                           object\n",
       "Lumbar_pain                                                    object\n",
       "Urine_pushing                                                  object\n",
       "Micturition_pains                                              object\n",
       "Burning_of_urethra_and_itch_and_swelling_of_urethra_outlet     object\n",
       "Inflammation_of_urinary_bladder                                object\n",
       "Nephritis_of_renal_pelvis_origin                               object\n",
       "dtype: object"
      ]
     },
     "execution_count": 39,
     "metadata": {},
     "output_type": "execute_result"
    }
   ],
   "source": [
    "df.dtypes"
   ]
  },
  {
   "cell_type": "code",
   "execution_count": 40,
   "id": "7d188d12",
   "metadata": {},
   "outputs": [
    {
     "data": {
      "text/plain": [
       "Temperature_of_patient                                        44\n",
       "Occurrence_of_nausea                                           2\n",
       "Lumbar_pain                                                    2\n",
       "Urine_pushing                                                  2\n",
       "Micturition_pains                                              2\n",
       "Burning_of_urethra_and_itch_and_swelling_of_urethra_outlet     2\n",
       "Inflammation_of_urinary_bladder                                2\n",
       "Nephritis_of_renal_pelvis_origin                               2\n",
       "dtype: int64"
      ]
     },
     "execution_count": 40,
     "metadata": {},
     "output_type": "execute_result"
    }
   ],
   "source": [
    "df.nunique()"
   ]
  },
  {
   "cell_type": "code",
   "execution_count": 41,
   "id": "8641fe49",
   "metadata": {},
   "outputs": [
    {
     "data": {
      "text/plain": [
       "array([35.5, 35.9, 36. , 36.2, 36.3, 36.6, 36.7, 36.8, 36.9, 37. , 37.1,\n",
       "       37.2, 37.3, 37.4, 37.5, 37.6, 37.7, 37.8, 37.9, 38. , 38.1, 38.3,\n",
       "       38.5, 38.7, 38.9, 39. , 39.4, 39.7, 40. , 40.1, 40.2, 40.3, 40.4,\n",
       "       40.5, 40.6, 40.7, 40.8, 40.9, 41. , 41.1, 41.2, 41.3, 41.4, 41.5])"
      ]
     },
     "execution_count": 41,
     "metadata": {},
     "output_type": "execute_result"
    }
   ],
   "source": [
    "df['Temperature_of_patient'].unique()"
   ]
  },
  {
   "cell_type": "code",
   "execution_count": 23,
   "id": "fc1f15d5",
   "metadata": {},
   "outputs": [
    {
     "data": {
      "text/plain": [
       "Temperature_of_patient                                        0\n",
       "Occurrence_of_nausea                                          0\n",
       "Lumbar_pain                                                   0\n",
       "Urine_pushing                                                 0\n",
       "Micturition_pains                                             0\n",
       "Burning_of_urethra_and_itch_and_swelling_of_urethra_outlet    0\n",
       "Inflammation_of_urinary_bladder                               0\n",
       "Nephritis_of_renal_pelvis_origin                              0\n",
       "dtype: int64"
      ]
     },
     "execution_count": 23,
     "metadata": {},
     "output_type": "execute_result"
    }
   ],
   "source": [
    "#number Nan for each column\n",
    "df.isna().sum()"
   ]
  },
  {
   "cell_type": "code",
   "execution_count": 24,
   "id": "fb18ccb8",
   "metadata": {},
   "outputs": [],
   "source": [
    "df['Temperature_of_patient'] = df['Temperature_of_patient'].astype(float)"
   ]
  },
  {
   "cell_type": "code",
   "execution_count": 25,
   "id": "2e044bd1",
   "metadata": {},
   "outputs": [
    {
     "name": "stdout",
     "output_type": "stream",
     "text": [
      "<class 'pandas.core.frame.DataFrame'>\n",
      "RangeIndex: 99 entries, 0 to 98\n",
      "Data columns (total 8 columns):\n",
      " #   Column                                                      Non-Null Count  Dtype  \n",
      "---  ------                                                      --------------  -----  \n",
      " 0   Temperature_of_patient                                      99 non-null     float64\n",
      " 1   Occurrence_of_nausea                                        99 non-null     object \n",
      " 2   Lumbar_pain                                                 99 non-null     object \n",
      " 3   Urine_pushing                                               99 non-null     object \n",
      " 4   Micturition_pains                                           99 non-null     object \n",
      " 5   Burning_of_urethra_and_itch_and_swelling_of_urethra_outlet  99 non-null     object \n",
      " 6   Inflammation_of_urinary_bladder                             99 non-null     object \n",
      " 7   Nephritis_of_renal_pelvis_origin                            99 non-null     object \n",
      "dtypes: float64(1), object(7)\n",
      "memory usage: 6.3+ KB\n"
     ]
    }
   ],
   "source": [
    "df.info()"
   ]
  },
  {
   "cell_type": "code",
   "execution_count": 42,
   "id": "ccd20831",
   "metadata": {},
   "outputs": [],
   "source": [
    "dict_unique_columns={'Occurrence_of_nausea':{\"number_unique\":0 ,\"unique\":[]}\n",
    "                     , 'Lumbar_pain':{\"number_unique\": 0,\"unique\":[]}\n",
    "                     ,'Urine_pushing':{\"number_unique\":0 ,\"unique\":[]}\n",
    "                     , 'Micturition_pains':{\"number_unique\":0 ,\"unique\":[]}\n",
    "                     ,'Burning_of_urethra_and_itch_and_swelling_of_urethra_outlet':{\"number_unique\":0 ,\"unique\":[]}\n",
    "                     ,'Inflammation_of_urinary_bladder':{\"number_unique\":0 ,\"unique\":[]}\n",
    "                     , 'Nephritis_of_renal_pelvis_origin':{\"number_unique\":0 ,\"unique\":[]}}"
   ]
  },
  {
   "cell_type": "code",
   "execution_count": 48,
   "id": "a8ff637e",
   "metadata": {},
   "outputs": [
    {
     "data": {
      "text/plain": [
       "{'Occurrence_of_nausea': {'number_unique': 2,\n",
       "  'unique': array(['no', 'yes'], dtype=object)},\n",
       " 'Lumbar_pain': {'number_unique': 2,\n",
       "  'unique': array(['yes', 'no'], dtype=object)},\n",
       " 'Urine_pushing': {'number_unique': 2,\n",
       "  'unique': array(['no', 'yes'], dtype=object)},\n",
       " 'Micturition_pains': {'number_unique': 2,\n",
       "  'unique': array(['no', 'yes'], dtype=object)},\n",
       " 'Burning_of_urethra_and_itch_and_swelling_of_urethra_outlet': {'number_unique': 2,\n",
       "  'unique': array(['no', 'yes'], dtype=object)},\n",
       " 'Inflammation_of_urinary_bladder': {'number_unique': 2,\n",
       "  'unique': array(['no', 'yes'], dtype=object)},\n",
       " 'Nephritis_of_renal_pelvis_origin': {'number_unique': 2,\n",
       "  'unique': array(['no', 'yes'], dtype=object)}}"
      ]
     },
     "execution_count": 48,
     "metadata": {},
     "output_type": "execute_result"
    }
   ],
   "source": [
    "#pd.DataFrame.from_dict(dict_unique_columns)\n",
    "dict_unique_columns"
   ]
  },
  {
   "cell_type": "code",
   "execution_count": 49,
   "id": "8b5b5922",
   "metadata": {},
   "outputs": [],
   "source": [
    "def unique_columns (dict_unique_columns):\n",
    "    for index in dict_unique_columns:\n",
    "        dict_unique_columns[index][\"number_unique\"]=df[index].nunique()\n",
    "        dict_unique_columns[index][\"unique\"]=df[index].unique()\n",
    "    "
   ]
  },
  {
   "cell_type": "code",
   "execution_count": 50,
   "id": "16fe7dec",
   "metadata": {},
   "outputs": [],
   "source": [
    "unique_columns (dict_unique_columns)"
   ]
  },
  {
   "cell_type": "code",
   "execution_count": 51,
   "id": "1f7b7748",
   "metadata": {},
   "outputs": [],
   "source": [
    "#Encoder:obj to numrice\n",
    "def Encoder_columns(dict_unique_columns):\n",
    "    for index in dict_unique_columns:\n",
    "        Encoder=LabelEncoder()\n",
    "        df[index]=Encoder.fit_transform(df[index])"
   ]
  },
  {
   "cell_type": "code",
   "execution_count": 52,
   "id": "f88cbafa",
   "metadata": {},
   "outputs": [],
   "source": [
    "Encoder_columns(dict_unique_columns)"
   ]
  },
  {
   "cell_type": "code",
   "execution_count": 32,
   "id": "3e5cc893",
   "metadata": {},
   "outputs": [
    {
     "data": {
      "text/html": [
       "<div>\n",
       "<style scoped>\n",
       "    .dataframe tbody tr th:only-of-type {\n",
       "        vertical-align: middle;\n",
       "    }\n",
       "\n",
       "    .dataframe tbody tr th {\n",
       "        vertical-align: top;\n",
       "    }\n",
       "\n",
       "    .dataframe thead th {\n",
       "        text-align: right;\n",
       "    }\n",
       "</style>\n",
       "<table border=\"1\" class=\"dataframe\">\n",
       "  <thead>\n",
       "    <tr style=\"text-align: right;\">\n",
       "      <th></th>\n",
       "      <th>Temperature_of_patient</th>\n",
       "      <th>Occurrence_of_nausea</th>\n",
       "      <th>Lumbar_pain</th>\n",
       "      <th>Urine_pushing</th>\n",
       "      <th>Micturition_pains</th>\n",
       "      <th>Burning_of_urethra_and_itch_and_swelling_of_urethra_outlet</th>\n",
       "      <th>Inflammation_of_urinary_bladder</th>\n",
       "      <th>Nephritis_of_renal_pelvis_origin</th>\n",
       "    </tr>\n",
       "  </thead>\n",
       "  <tbody>\n",
       "    <tr>\n",
       "      <th>0</th>\n",
       "      <td>35.5</td>\n",
       "      <td>0</td>\n",
       "      <td>1</td>\n",
       "      <td>0</td>\n",
       "      <td>0</td>\n",
       "      <td>0</td>\n",
       "      <td>0</td>\n",
       "      <td>0</td>\n",
       "    </tr>\n",
       "    <tr>\n",
       "      <th>1</th>\n",
       "      <td>35.9</td>\n",
       "      <td>0</td>\n",
       "      <td>0</td>\n",
       "      <td>1</td>\n",
       "      <td>1</td>\n",
       "      <td>1</td>\n",
       "      <td>1</td>\n",
       "      <td>0</td>\n",
       "    </tr>\n",
       "    <tr>\n",
       "      <th>2</th>\n",
       "      <td>35.9</td>\n",
       "      <td>0</td>\n",
       "      <td>1</td>\n",
       "      <td>0</td>\n",
       "      <td>0</td>\n",
       "      <td>0</td>\n",
       "      <td>0</td>\n",
       "      <td>0</td>\n",
       "    </tr>\n",
       "    <tr>\n",
       "      <th>3</th>\n",
       "      <td>36.0</td>\n",
       "      <td>0</td>\n",
       "      <td>0</td>\n",
       "      <td>1</td>\n",
       "      <td>1</td>\n",
       "      <td>1</td>\n",
       "      <td>1</td>\n",
       "      <td>0</td>\n",
       "    </tr>\n",
       "    <tr>\n",
       "      <th>4</th>\n",
       "      <td>36.0</td>\n",
       "      <td>0</td>\n",
       "      <td>1</td>\n",
       "      <td>0</td>\n",
       "      <td>0</td>\n",
       "      <td>0</td>\n",
       "      <td>0</td>\n",
       "      <td>0</td>\n",
       "    </tr>\n",
       "    <tr>\n",
       "      <th>...</th>\n",
       "      <td>...</td>\n",
       "      <td>...</td>\n",
       "      <td>...</td>\n",
       "      <td>...</td>\n",
       "      <td>...</td>\n",
       "      <td>...</td>\n",
       "      <td>...</td>\n",
       "      <td>...</td>\n",
       "    </tr>\n",
       "    <tr>\n",
       "      <th>94</th>\n",
       "      <td>41.3</td>\n",
       "      <td>1</td>\n",
       "      <td>1</td>\n",
       "      <td>1</td>\n",
       "      <td>1</td>\n",
       "      <td>0</td>\n",
       "      <td>1</td>\n",
       "      <td>1</td>\n",
       "    </tr>\n",
       "    <tr>\n",
       "      <th>95</th>\n",
       "      <td>41.4</td>\n",
       "      <td>0</td>\n",
       "      <td>1</td>\n",
       "      <td>1</td>\n",
       "      <td>0</td>\n",
       "      <td>1</td>\n",
       "      <td>0</td>\n",
       "      <td>1</td>\n",
       "    </tr>\n",
       "    <tr>\n",
       "      <th>96</th>\n",
       "      <td>41.5</td>\n",
       "      <td>0</td>\n",
       "      <td>0</td>\n",
       "      <td>0</td>\n",
       "      <td>0</td>\n",
       "      <td>0</td>\n",
       "      <td>0</td>\n",
       "      <td>0</td>\n",
       "    </tr>\n",
       "    <tr>\n",
       "      <th>97</th>\n",
       "      <td>41.5</td>\n",
       "      <td>1</td>\n",
       "      <td>1</td>\n",
       "      <td>0</td>\n",
       "      <td>1</td>\n",
       "      <td>0</td>\n",
       "      <td>0</td>\n",
       "      <td>1</td>\n",
       "    </tr>\n",
       "    <tr>\n",
       "      <th>98</th>\n",
       "      <td>41.5</td>\n",
       "      <td>0</td>\n",
       "      <td>1</td>\n",
       "      <td>1</td>\n",
       "      <td>0</td>\n",
       "      <td>1</td>\n",
       "      <td>0</td>\n",
       "      <td>1</td>\n",
       "    </tr>\n",
       "  </tbody>\n",
       "</table>\n",
       "<p>99 rows × 8 columns</p>\n",
       "</div>"
      ],
      "text/plain": [
       "    Temperature_of_patient  Occurrence_of_nausea  Lumbar_pain  Urine_pushing  \\\n",
       "0                     35.5                     0            1              0   \n",
       "1                     35.9                     0            0              1   \n",
       "2                     35.9                     0            1              0   \n",
       "3                     36.0                     0            0              1   \n",
       "4                     36.0                     0            1              0   \n",
       "..                     ...                   ...          ...            ...   \n",
       "94                    41.3                     1            1              1   \n",
       "95                    41.4                     0            1              1   \n",
       "96                    41.5                     0            0              0   \n",
       "97                    41.5                     1            1              0   \n",
       "98                    41.5                     0            1              1   \n",
       "\n",
       "    Micturition_pains  \\\n",
       "0                   0   \n",
       "1                   1   \n",
       "2                   0   \n",
       "3                   1   \n",
       "4                   0   \n",
       "..                ...   \n",
       "94                  1   \n",
       "95                  0   \n",
       "96                  0   \n",
       "97                  1   \n",
       "98                  0   \n",
       "\n",
       "    Burning_of_urethra_and_itch_and_swelling_of_urethra_outlet  \\\n",
       "0                                                   0            \n",
       "1                                                   1            \n",
       "2                                                   0            \n",
       "3                                                   1            \n",
       "4                                                   0            \n",
       "..                                                ...            \n",
       "94                                                  0            \n",
       "95                                                  1            \n",
       "96                                                  0            \n",
       "97                                                  0            \n",
       "98                                                  1            \n",
       "\n",
       "    Inflammation_of_urinary_bladder  Nephritis_of_renal_pelvis_origin  \n",
       "0                                 0                                 0  \n",
       "1                                 1                                 0  \n",
       "2                                 0                                 0  \n",
       "3                                 1                                 0  \n",
       "4                                 0                                 0  \n",
       "..                              ...                               ...  \n",
       "94                                1                                 1  \n",
       "95                                0                                 1  \n",
       "96                                0                                 0  \n",
       "97                                0                                 1  \n",
       "98                                0                                 1  \n",
       "\n",
       "[99 rows x 8 columns]"
      ]
     },
     "execution_count": 32,
     "metadata": {},
     "output_type": "execute_result"
    }
   ],
   "source": [
    "#done\n",
    "df"
   ]
  },
  {
   "cell_type": "code",
   "execution_count": 33,
   "id": "1e55b07f",
   "metadata": {},
   "outputs": [],
   "source": [
    "#data done "
   ]
  },
  {
   "cell_type": "code",
   "execution_count": 34,
   "id": "349e3b8d",
   "metadata": {},
   "outputs": [],
   "source": [
    "feature = df.iloc[:,:-2]\n",
    "target= df.iloc[:,-2:]"
   ]
  },
  {
   "cell_type": "code",
   "execution_count": 35,
   "id": "38080d55",
   "metadata": {},
   "outputs": [
    {
     "data": {
      "text/html": [
       "<div>\n",
       "<style scoped>\n",
       "    .dataframe tbody tr th:only-of-type {\n",
       "        vertical-align: middle;\n",
       "    }\n",
       "\n",
       "    .dataframe tbody tr th {\n",
       "        vertical-align: top;\n",
       "    }\n",
       "\n",
       "    .dataframe thead th {\n",
       "        text-align: right;\n",
       "    }\n",
       "</style>\n",
       "<table border=\"1\" class=\"dataframe\">\n",
       "  <thead>\n",
       "    <tr style=\"text-align: right;\">\n",
       "      <th></th>\n",
       "      <th>Temperature_of_patient</th>\n",
       "      <th>Occurrence_of_nausea</th>\n",
       "      <th>Lumbar_pain</th>\n",
       "      <th>Urine_pushing</th>\n",
       "      <th>Micturition_pains</th>\n",
       "      <th>Burning_of_urethra_and_itch_and_swelling_of_urethra_outlet</th>\n",
       "    </tr>\n",
       "  </thead>\n",
       "  <tbody>\n",
       "    <tr>\n",
       "      <th>0</th>\n",
       "      <td>35.5</td>\n",
       "      <td>0</td>\n",
       "      <td>1</td>\n",
       "      <td>0</td>\n",
       "      <td>0</td>\n",
       "      <td>0</td>\n",
       "    </tr>\n",
       "    <tr>\n",
       "      <th>1</th>\n",
       "      <td>35.9</td>\n",
       "      <td>0</td>\n",
       "      <td>0</td>\n",
       "      <td>1</td>\n",
       "      <td>1</td>\n",
       "      <td>1</td>\n",
       "    </tr>\n",
       "    <tr>\n",
       "      <th>2</th>\n",
       "      <td>35.9</td>\n",
       "      <td>0</td>\n",
       "      <td>1</td>\n",
       "      <td>0</td>\n",
       "      <td>0</td>\n",
       "      <td>0</td>\n",
       "    </tr>\n",
       "    <tr>\n",
       "      <th>3</th>\n",
       "      <td>36.0</td>\n",
       "      <td>0</td>\n",
       "      <td>0</td>\n",
       "      <td>1</td>\n",
       "      <td>1</td>\n",
       "      <td>1</td>\n",
       "    </tr>\n",
       "    <tr>\n",
       "      <th>4</th>\n",
       "      <td>36.0</td>\n",
       "      <td>0</td>\n",
       "      <td>1</td>\n",
       "      <td>0</td>\n",
       "      <td>0</td>\n",
       "      <td>0</td>\n",
       "    </tr>\n",
       "    <tr>\n",
       "      <th>...</th>\n",
       "      <td>...</td>\n",
       "      <td>...</td>\n",
       "      <td>...</td>\n",
       "      <td>...</td>\n",
       "      <td>...</td>\n",
       "      <td>...</td>\n",
       "    </tr>\n",
       "    <tr>\n",
       "      <th>94</th>\n",
       "      <td>41.3</td>\n",
       "      <td>1</td>\n",
       "      <td>1</td>\n",
       "      <td>1</td>\n",
       "      <td>1</td>\n",
       "      <td>0</td>\n",
       "    </tr>\n",
       "    <tr>\n",
       "      <th>95</th>\n",
       "      <td>41.4</td>\n",
       "      <td>0</td>\n",
       "      <td>1</td>\n",
       "      <td>1</td>\n",
       "      <td>0</td>\n",
       "      <td>1</td>\n",
       "    </tr>\n",
       "    <tr>\n",
       "      <th>96</th>\n",
       "      <td>41.5</td>\n",
       "      <td>0</td>\n",
       "      <td>0</td>\n",
       "      <td>0</td>\n",
       "      <td>0</td>\n",
       "      <td>0</td>\n",
       "    </tr>\n",
       "    <tr>\n",
       "      <th>97</th>\n",
       "      <td>41.5</td>\n",
       "      <td>1</td>\n",
       "      <td>1</td>\n",
       "      <td>0</td>\n",
       "      <td>1</td>\n",
       "      <td>0</td>\n",
       "    </tr>\n",
       "    <tr>\n",
       "      <th>98</th>\n",
       "      <td>41.5</td>\n",
       "      <td>0</td>\n",
       "      <td>1</td>\n",
       "      <td>1</td>\n",
       "      <td>0</td>\n",
       "      <td>1</td>\n",
       "    </tr>\n",
       "  </tbody>\n",
       "</table>\n",
       "<p>99 rows × 6 columns</p>\n",
       "</div>"
      ],
      "text/plain": [
       "    Temperature_of_patient  Occurrence_of_nausea  Lumbar_pain  Urine_pushing  \\\n",
       "0                     35.5                     0            1              0   \n",
       "1                     35.9                     0            0              1   \n",
       "2                     35.9                     0            1              0   \n",
       "3                     36.0                     0            0              1   \n",
       "4                     36.0                     0            1              0   \n",
       "..                     ...                   ...          ...            ...   \n",
       "94                    41.3                     1            1              1   \n",
       "95                    41.4                     0            1              1   \n",
       "96                    41.5                     0            0              0   \n",
       "97                    41.5                     1            1              0   \n",
       "98                    41.5                     0            1              1   \n",
       "\n",
       "    Micturition_pains  \\\n",
       "0                   0   \n",
       "1                   1   \n",
       "2                   0   \n",
       "3                   1   \n",
       "4                   0   \n",
       "..                ...   \n",
       "94                  1   \n",
       "95                  0   \n",
       "96                  0   \n",
       "97                  1   \n",
       "98                  0   \n",
       "\n",
       "    Burning_of_urethra_and_itch_and_swelling_of_urethra_outlet  \n",
       "0                                                   0           \n",
       "1                                                   1           \n",
       "2                                                   0           \n",
       "3                                                   1           \n",
       "4                                                   0           \n",
       "..                                                ...           \n",
       "94                                                  0           \n",
       "95                                                  1           \n",
       "96                                                  0           \n",
       "97                                                  0           \n",
       "98                                                  1           \n",
       "\n",
       "[99 rows x 6 columns]"
      ]
     },
     "execution_count": 35,
     "metadata": {},
     "output_type": "execute_result"
    }
   ],
   "source": [
    "feature"
   ]
  },
  {
   "cell_type": "code",
   "execution_count": 36,
   "id": "d60bbe15",
   "metadata": {},
   "outputs": [
    {
     "data": {
      "text/html": [
       "<div>\n",
       "<style scoped>\n",
       "    .dataframe tbody tr th:only-of-type {\n",
       "        vertical-align: middle;\n",
       "    }\n",
       "\n",
       "    .dataframe tbody tr th {\n",
       "        vertical-align: top;\n",
       "    }\n",
       "\n",
       "    .dataframe thead th {\n",
       "        text-align: right;\n",
       "    }\n",
       "</style>\n",
       "<table border=\"1\" class=\"dataframe\">\n",
       "  <thead>\n",
       "    <tr style=\"text-align: right;\">\n",
       "      <th></th>\n",
       "      <th>Inflammation_of_urinary_bladder</th>\n",
       "      <th>Nephritis_of_renal_pelvis_origin</th>\n",
       "    </tr>\n",
       "  </thead>\n",
       "  <tbody>\n",
       "    <tr>\n",
       "      <th>0</th>\n",
       "      <td>0</td>\n",
       "      <td>0</td>\n",
       "    </tr>\n",
       "    <tr>\n",
       "      <th>1</th>\n",
       "      <td>1</td>\n",
       "      <td>0</td>\n",
       "    </tr>\n",
       "    <tr>\n",
       "      <th>2</th>\n",
       "      <td>0</td>\n",
       "      <td>0</td>\n",
       "    </tr>\n",
       "    <tr>\n",
       "      <th>3</th>\n",
       "      <td>1</td>\n",
       "      <td>0</td>\n",
       "    </tr>\n",
       "    <tr>\n",
       "      <th>4</th>\n",
       "      <td>0</td>\n",
       "      <td>0</td>\n",
       "    </tr>\n",
       "    <tr>\n",
       "      <th>...</th>\n",
       "      <td>...</td>\n",
       "      <td>...</td>\n",
       "    </tr>\n",
       "    <tr>\n",
       "      <th>94</th>\n",
       "      <td>1</td>\n",
       "      <td>1</td>\n",
       "    </tr>\n",
       "    <tr>\n",
       "      <th>95</th>\n",
       "      <td>0</td>\n",
       "      <td>1</td>\n",
       "    </tr>\n",
       "    <tr>\n",
       "      <th>96</th>\n",
       "      <td>0</td>\n",
       "      <td>0</td>\n",
       "    </tr>\n",
       "    <tr>\n",
       "      <th>97</th>\n",
       "      <td>0</td>\n",
       "      <td>1</td>\n",
       "    </tr>\n",
       "    <tr>\n",
       "      <th>98</th>\n",
       "      <td>0</td>\n",
       "      <td>1</td>\n",
       "    </tr>\n",
       "  </tbody>\n",
       "</table>\n",
       "<p>99 rows × 2 columns</p>\n",
       "</div>"
      ],
      "text/plain": [
       "    Inflammation_of_urinary_bladder  Nephritis_of_renal_pelvis_origin\n",
       "0                                 0                                 0\n",
       "1                                 1                                 0\n",
       "2                                 0                                 0\n",
       "3                                 1                                 0\n",
       "4                                 0                                 0\n",
       "..                              ...                               ...\n",
       "94                                1                                 1\n",
       "95                                0                                 1\n",
       "96                                0                                 0\n",
       "97                                0                                 1\n",
       "98                                0                                 1\n",
       "\n",
       "[99 rows x 2 columns]"
      ]
     },
     "execution_count": 36,
     "metadata": {},
     "output_type": "execute_result"
    }
   ],
   "source": [
    "target"
   ]
  },
  {
   "cell_type": "code",
   "execution_count": 37,
   "id": "54403a17",
   "metadata": {},
   "outputs": [
    {
     "data": {
      "text/plain": [
       "<seaborn.axisgrid.FacetGrid at 0x1e8606d7550>"
      ]
     },
     "execution_count": 37,
     "metadata": {},
     "output_type": "execute_result"
    },
    {
     "data": {
      "image/png": "[encoded data removed]",
      "text/plain": [
       "<Figure size 533.125x360 with 1 Axes>"
      ]
     },
     "metadata": {
      "needs_background": "light"
     },
     "output_type": "display_data"
    }
   ],
   "source": [
    "import seaborn as sns\n",
    "sns.lmplot(data=df, x='Temperature_of_patient', hue='Inflammation_of_urinary_bladder', y='Inflammation_of_urinary_bladder', fit_reg=False)\n"
   ]
  },
  {
   "cell_type": "code",
   "execution_count": 38,
   "id": "4582296a",
   "metadata": {},
   "outputs": [
    {
     "data": {
      "text/plain": [
       "<seaborn.axisgrid.FacetGrid at 0x1e85b1e0190>"
      ]
     },
     "execution_count": 38,
     "metadata": {},
     "output_type": "execute_result"
    },
    {
     "data": {
      "image/png": "[encoded data removed]",
      "text/plain": [
       "<Figure size 526.125x360 with 1 Axes>"
      ]
     },
     "metadata": {
      "needs_background": "light"
     },
     "output_type": "display_data"
    }
   ],
   "source": [
    "import seaborn as sns\n",
    "sns.lmplot(data=df, x='Temperature_of_patient', hue='Nephritis_of_renal_pelvis_origin', y='Nephritis_of_renal_pelvis_origin', fit_reg=False)\n"
   ]
  },
  {
   "cell_type": "code",
   "execution_count": 39,
   "id": "be5c7f4b",
   "metadata": {},
   "outputs": [
    {
     "name": "stdout",
     "output_type": "stream",
     "text": [
      "%pylab is deprecated, use %matplotlib inline and import the required libraries.\n",
      "Populating the interactive namespace from numpy and matplotlib\n"
     ]
    },
    {
     "data": {
      "image/png": "[encoded data removed]",
      "text/plain": [
       "<Figure size 432x288 with 1 Axes>"
      ]
     },
     "metadata": {},
     "output_type": "display_data"
    },
    {
     "data": {
      "image/png": "[encoded data removed]",
      "text/plain": [
       "<Figure size 432x288 with 1 Axes>"
      ]
     },
     "metadata": {},
     "output_type": "display_data"
    },
    {
     "data": {
      "image/png": "[encoded data removed]",
      "text/plain": [
       "<Figure size 432x288 with 1 Axes>"
      ]
     },
     "metadata": {},
     "output_type": "display_data"
    },
    {
     "data": {
      "image/png": "[encoded data removed]",
      "text/plain": [
       "<Figure size 432x288 with 1 Axes>"
      ]
     },
     "metadata": {},
     "output_type": "display_data"
    },
    {
     "data": {
      "image/png": "[encoded data removed]",
      "text/plain": [
       "<Figure size 432x288 with 1 Axes>"
      ]
     },
     "metadata": {},
     "output_type": "display_data"
    }
   ],
   "source": [
    "%pylab inline\n",
    "pylab.style.use('ggplot')\n",
    "for fname in feature.columns[1:]:\n",
    "    pylab.figure()\n",
    "    sns.countplot(y=fname, hue=\"Inflammation_of_urinary_bladder\", data=df)"
   ]
  },
  {
   "cell_type": "code",
   "execution_count": 40,
   "id": "4d3a94d1",
   "metadata": {},
   "outputs": [
    {
     "data": {
      "image/png": "[encoded data removed]",
      "text/plain": [
       "<Figure size 432x288 with 1 Axes>"
      ]
     },
     "metadata": {},
     "output_type": "display_data"
    },
    {
     "data": {
      "image/png": "[encoded data removed]",
      "text/plain": [
       "<Figure size 432x288 with 1 Axes>"
      ]
     },
     "metadata": {},
     "output_type": "display_data"
    },
    {
     "data": {
      "image/png": "[encoded data removed]",
      "text/plain": [
       "<Figure size 432x288 with 1 Axes>"
      ]
     },
     "metadata": {},
     "output_type": "display_data"
    },
    {
     "data": {
      "image/png": "[encoded data removed]",
      "text/plain": [
       "<Figure size 432x288 with 1 Axes>"
      ]
     },
     "metadata": {},
     "output_type": "display_data"
    },
    {
     "data": {
      "image/png": "[encoded data removed]",
      "text/plain": [
       "<Figure size 432x288 with 1 Axes>"
      ]
     },
     "metadata": {},
     "output_type": "display_data"
    }
   ],
   "source": [
    "for fname in feature.columns[1:]:\n",
    "    pylab.figure()\n",
    "    sns.countplot(y=fname, hue=\"Nephritis_of_renal_pelvis_origin\", data=df)"
   ]
  }
 ],
 "metadata": {
  "kernelspec": {
   "display_name": "Python 3 (ipykernel)",
   "language": "python",
   "name": "python3"
  },
  "language_info": {
   "codemirror_mode": {
    "name": "ipython",
    "version": 3
   },
   "file_extension": ".py",
   "mimetype": "text/x-python",
   "name": "python",
   "nbconvert_exporter": "python",
   "pygments_lexer": "ipython3",
   "version": "3.9.12"
  }
 },
 "nbformat": 4,
 "nbformat_minor": 5
}
